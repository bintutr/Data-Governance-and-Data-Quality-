{
 "cells": [
  {
   "cell_type": "markdown",
   "id": "e34c7fbd",
   "metadata": {},
   "source": [
    "# Modulo de Gobierno de los Datos"
   ]
  },
  {
   "cell_type": "markdown",
   "id": "e31599dd",
   "metadata": {},
   "source": [
    "1. Carga de Archivos:"
   ]
  },
  {
   "cell_type": "code",
   "execution_count": 14,
   "id": "70bb0de3",
   "metadata": {},
   "outputs": [],
   "source": [
    "###Completar"
   ]
  },
  {
   "cell_type": "markdown",
   "id": "83dc8a18",
   "metadata": {},
   "source": [
    "2. Aplicar la funcion **Isnull** y **notnull()** al Dataset. Agregar una interpretacion personal de los resultados."
   ]
  },
  {
   "cell_type": "code",
   "execution_count": 15,
   "id": "fa7b17af",
   "metadata": {},
   "outputs": [],
   "source": [
    "###Completar"
   ]
  },
  {
   "cell_type": "code",
   "execution_count": 16,
   "id": "6f2b55a5",
   "metadata": {},
   "outputs": [],
   "source": [
    "###Completar"
   ]
  },
  {
   "cell_type": "markdown",
   "id": "762a5d57",
   "metadata": {},
   "source": [
    "3. Ejecutar la funcion **info()**. Comentar brevemente los hallazgos identificados."
   ]
  },
  {
   "cell_type": "code",
   "execution_count": 17,
   "id": "61e7aa53",
   "metadata": {},
   "outputs": [],
   "source": [
    "###Completar"
   ]
  },
  {
   "cell_type": "markdown",
   "id": "bdf96e6c",
   "metadata": {},
   "source": [
    "4. Analizar los tipos de datos del dataset"
   ]
  },
  {
   "cell_type": "code",
   "execution_count": 18,
   "id": "61d1c8cf",
   "metadata": {},
   "outputs": [],
   "source": [
    "###Completar"
   ]
  },
  {
   "cell_type": "code",
   "execution_count": 19,
   "id": "133a6bdb",
   "metadata": {},
   "outputs": [],
   "source": [
    "###Completar"
   ]
  },
  {
   "cell_type": "markdown",
   "id": "87d63142",
   "metadata": {},
   "source": [
    "5. Indagar sobre las dimensiones de nuestro dataset"
   ]
  },
  {
   "cell_type": "code",
   "execution_count": 20,
   "id": "a420e7d9",
   "metadata": {},
   "outputs": [],
   "source": [
    "###Completar"
   ]
  },
  {
   "cell_type": "markdown",
   "id": "efe2b8b8",
   "metadata": {},
   "source": [
    "6. Eliminar los valores nulos con la funcion dropna()"
   ]
  },
  {
   "cell_type": "code",
   "execution_count": 21,
   "id": "202d1c6e",
   "metadata": {},
   "outputs": [],
   "source": [
    "###Completar"
   ]
  },
  {
   "cell_type": "markdown",
   "id": "c7b790bb",
   "metadata": {},
   "source": [
    "7. Como hemos observamos anteriormente, se pierden muchos registros. Razon por la cual, se solicita cargar nuevamente el archivo propuesto y reemplazar los valores NaN de la columna: reviews_per_month por 0."
   ]
  },
  {
   "cell_type": "code",
   "execution_count": 22,
   "id": "92af927a",
   "metadata": {},
   "outputs": [],
   "source": [
    "#Volvemos a cargar nuestro dataset!\n",
    "    ###Completar"
   ]
  },
  {
   "cell_type": "code",
   "execution_count": 23,
   "id": "a57b91ec",
   "metadata": {},
   "outputs": [],
   "source": [
    "#Aplicamos la funcion fillna\n",
    "    ###Completar"
   ]
  },
  {
   "cell_type": "code",
   "execution_count": 24,
   "id": "a27690b7",
   "metadata": {},
   "outputs": [],
   "source": [
    "#Veamos si funciono.... con la funcion count()\n",
    "    ###Completar"
   ]
  },
  {
   "cell_type": "markdown",
   "id": "269df1cb",
   "metadata": {},
   "source": [
    "8. Se solicita eliminar las columnas: 'id', 'host_name', 'last_review' del dataset."
   ]
  },
  {
   "cell_type": "code",
   "execution_count": 25,
   "id": "29546459",
   "metadata": {},
   "outputs": [],
   "source": [
    "###Completar"
   ]
  },
  {
   "cell_type": "code",
   "execution_count": 26,
   "id": "c79fe692",
   "metadata": {},
   "outputs": [],
   "source": [
    "#Corroborar la correcta eliminacion\n",
    "    #Completar"
   ]
  },
  {
   "cell_type": "markdown",
   "id": "b0cc6b9c",
   "metadata": {},
   "source": [
    "9. Realizar un analisis de outliers, con su correspondiente interpretacion asociada."
   ]
  },
  {
   "cell_type": "code",
   "execution_count": 27,
   "id": "179d76b9",
   "metadata": {},
   "outputs": [],
   "source": [
    "###Completar"
   ]
  },
  {
   "cell_type": "markdown",
   "id": "dc6dd12b",
   "metadata": {},
   "source": [
    "# Conclusiones"
   ]
  },
  {
   "cell_type": "markdown",
   "id": "1bb940bf",
   "metadata": {},
   "source": [
    "En este apartado, se debera realizar una pequeña conclusion a modo de recap de la actividad realizada por parte de los estudiantes. Recordar que para la aprobacion del presente ejercicio, se debe completar cada uno de los items solicitados en el notebook. Es posible incorporar apreciaciones complementarias como asi tambien codigos y funciones adicionales para profundizar en el proceso de aplicacion de Calidad de Datos con Python.\n",
    "\n",
    "                                                                                                            Muchas gracias. \n",
    "                                                                                                           "
   ]
  },
  {
   "cell_type": "markdown",
   "id": "f2e6d0f8",
   "metadata": {},
   "source": [
    "###Completar"
   ]
  }
 ],
 "metadata": {
  "kernelspec": {
   "display_name": "Python 3",
   "language": "python",
   "name": "python3"
  },
  "language_info": {
   "codemirror_mode": {
    "name": "ipython",
    "version": 3
   },
   "file_extension": ".py",
   "mimetype": "text/x-python",
   "name": "python",
   "nbconvert_exporter": "python",
   "pygments_lexer": "ipython3",
   "version": "3.8.8"
  },
  "varInspector": {
   "cols": {
    "lenName": 16,
    "lenType": 16,
    "lenVar": 40
   },
   "kernels_config": {
    "python": {
     "delete_cmd_postfix": "",
     "delete_cmd_prefix": "del ",
     "library": "var_list.py",
     "varRefreshCmd": "print(var_dic_list())"
    },
    "r": {
     "delete_cmd_postfix": ") ",
     "delete_cmd_prefix": "rm(",
     "library": "var_list.r",
     "varRefreshCmd": "cat(var_dic_list()) "
    }
   },
   "types_to_exclude": [
    "module",
    "function",
    "builtin_function_or_method",
    "instance",
    "_Feature"
   ],
   "window_display": false
  }
 },
 "nbformat": 4,
 "nbformat_minor": 5
}
