{
 "cells": [
  {
   "cell_type": "markdown",
   "id": "1bc1c067-50ea-4f62-880a-a35646a13344",
   "metadata": {},
   "source": [
    "# ACTIVIDAD GOBIERNO DE LOS DATOS"
   ]
  },
  {
   "cell_type": "markdown",
   "id": "107315a1-e155-4e85-8407-b884a9c4549f",
   "metadata": {},
   "source": [
    "⚠️😓Problemas comunes de datos\n",
    "\n",
    "A continuacion vamos a trabajar sobre un dataset que contiene datos sucios, al cual le vamos a aplicar tecnicas de limpieza como:\n",
    "\n",
    "✔️Conversion de tipos de datos\n",
    "\n",
    "✔️Eliminacion de datos duplicados para evitar el doble conteo\n",
    "\n",
    "✔️Restrinccion de rangos para evitar datos futuros incoherentes"
   ]
  },
  {
   "cell_type": "markdown",
   "id": "c1ba3d97-ad49-4126-811e-50b889e1b759",
   "metadata": {},
   "source": [
    "🧾Informacion del Dataset\n",
    "El dataset que estaremos trabajando comprende informacion sobre las estaciones de inicio y finalización, la duración del viaje y cierta información para el usuario de un servicio de bicicletas compartidas."
   ]
  },
  {
   "cell_type": "code",
   "execution_count": 1,
   "id": "6bd15648-ae87-44a7-b818-daccaf10e9e5",
   "metadata": {},
   "outputs": [],
   "source": [
    "import pandas as pd\n",
    "import numpy as np\n",
    "import datetime as dt"
   ]
  },
  {
   "cell_type": "code",
   "execution_count": 14,
   "id": "88bb3f80-6e00-434a-bcfc-39b1200cc0b0",
   "metadata": {},
   "outputs": [
    {
     "name": "stdout",
     "output_type": "stream",
     "text": [
      "<class 'pandas.core.frame.DataFrame'>\n",
      "RangeIndex: 76 entries, 0 to 75\n",
      "Data columns (total 12 columns):\n",
      " #   Column           Non-Null Count  Dtype \n",
      "---  ------           --------------  ----- \n",
      " 0   ride_id          76 non-null     int64 \n",
      " 1   duration         76 non-null     object\n",
      " 2   station_A_id     76 non-null     int64 \n",
      " 3   station_A_name   76 non-null     object\n",
      " 4   station_B_id     76 non-null     int64 \n",
      " 5   station_B_name   76 non-null     object\n",
      " 6   bike_id          76 non-null     int64 \n",
      " 7   user_type        76 non-null     int64 \n",
      " 8   user_birth_year  76 non-null     int64 \n",
      " 9   user_gender      76 non-null     object\n",
      " 10  tire_sizes       76 non-null     int64 \n",
      " 11  ride_date        76 non-null     object\n",
      "dtypes: int64(7), object(5)\n",
      "memory usage: 7.3+ KB\n"
     ]
    }
   ],
   "source": [
    "import pandas as pd\n",
    "df_ride = pd.read_csv(\"https://raw.githubusercontent.com/bintutr/Data-Governance-and-Data-Quality-/refs/heads/main/ride_sharing_new.csv\")\n",
    "#veamos que tiene el dataset\n",
    "df_ride.info()"
   ]
  },
  {
   "cell_type": "markdown",
   "id": "f45eebb1-e634-4b51-af2f-b3ba90b5f07c",
   "metadata": {},
   "source": [
    "La columna `user_type` contiene información sobre si un usuario está viajando gratis y toma los siguientes valores:\n",
    "\n",
    "🚴‍♂️ 1 de viaje gratis\n",
    "\n",
    "🚴‍♂️ 2 de pago por viaje\n",
    "\n",
    "🚴‍♂️ 3 de suscriptores mensuales"
   ]
  },
  {
   "cell_type": "code",
   "execution_count": 15,
   "id": "036bf23e-4833-4509-88dc-072ccda8740e",
   "metadata": {},
   "outputs": [
    {
     "data": {
      "text/plain": [
       "count    76.000000\n",
       "mean      1.881579\n",
       "std       0.692187\n",
       "min       1.000000\n",
       "25%       1.000000\n",
       "50%       2.000000\n",
       "75%       2.000000\n",
       "max       3.000000\n",
       "Name: user_type, dtype: float64"
      ]
     },
     "execution_count": 15,
     "metadata": {},
     "output_type": "execute_result"
    }
   ],
   "source": [
    "#utilizamos describe para ver el resumen estadistico de los datos de la columna user_typ\n",
    "df_ride = pd.read_csv(\"https://raw.githubusercontent.com/bintutr/Data-Governance-and-Data-Quality-/refs/heads/main/ride_sharing_new.csv\")\n",
    "df_ride['user_type'].describe()"
   ]
  },
  {
   "cell_type": "markdown",
   "id": "fb254f8a-eda1-4048-aa9c-6da4af3193ca",
   "metadata": {},
   "source": [
    "👁️‍🗨️ Al observar las estadisticas resumidas de la columna `user_type` vemos que tiene un conjunto finito de valores posibles que representan agrupaciones de datos, por ende, debemos convertir esta columna a tipo categoría."
   ]
  },
  {
   "cell_type": "code",
   "execution_count": 16,
   "id": "efe56ff7-47b5-4907-890d-a82fdca7448a",
   "metadata": {},
   "outputs": [
    {
     "name": "stdout",
     "output_type": "stream",
     "text": [
      "count     76\n",
      "unique     3\n",
      "top        2\n",
      "freq      39\n",
      "Name: user_type, dtype: int64\n"
     ]
    }
   ],
   "source": [
    "df_ride = pd.read_csv(\"https://raw.githubusercontent.com/bintutr/Data-Governance-and-Data-Quality-/refs/heads/main/ride_sharing_new.csv\")\n",
    "#podemos a cambiar el tipo de dato con astype, y se lo asignamos a la nueva columna\n",
    "df_ride['user_type'] = df_ride['user_type'].astype('category')\n",
    "\n",
    "#Para asegurarnos que la conversion fue correcta utilizamos la declaracion assert\n",
    "assert df_ride['user_type'].dtype == 'category'\n",
    "\n",
    "#y nuevamente observamos las estadisticas resumidas de la nueva columna, y podemos ver que\n",
    "#el resultado cambia al tratarse de una variable categorica\n",
    "print(df_ride['user_type'].describe())"
   ]
  },
  {
   "cell_type": "markdown",
   "id": "78ea74f0-d2c4-4d95-be51-4e13618f6929",
   "metadata": {},
   "source": [
    "🧹Ahora bien, siguiendo con nuestra limpieza debemos evitar la inconsistencia de tipo de datos, es decir, debemos asesorarnos que los datos de tipo numericos sean numericos y asi sucesivamente con los demas datos. Esto se hace con el fin de que las operaciones matematicas que querramos realizar sobre esos datos arrojen resultados correctos y no erroneos.\n",
    "\n",
    "Despues de haber revisado que contiene nuestro dataset, vamos a convertir la columna `durational` que es de tipo `object` a tipo `int`. Sin embargo, antes de eso, debemos asegurarnos de eliminar la palabra \"minutes\" para asi poderla convertir a numerica."
   ]
  },
  {
   "cell_type": "code",
   "execution_count": 17,
   "id": "1710f2c7-2a95-43f2-81b0-61f2051a3a4d",
   "metadata": {},
   "outputs": [
    {
     "name": "stdout",
     "output_type": "stream",
     "text": [
      "12.776315789473685\n"
     ]
    }
   ],
   "source": [
    "df_ride = pd.read_csv(\"https://raw.githubusercontent.com/bintutr/Data-Governance-and-Data-Quality-/refs/heads/main/ride_sharing_new.csv\")\n",
    "\n",
    "#eliminamos la cadena minutes con el metodo strip \n",
    "df_ride['duration'] = df_ride['duration'].str.strip('minutes')\n",
    "\n",
    "#convertirmos duration a tipo int \n",
    "df_ride['duration'] = df_ride['duration'].astype('int')\n",
    "\n",
    "#Para asegurarnos que la conversion fue correcta utilizamos la declaracion assert\n",
    "assert df_ride['duration'].dtype == 'int'\n",
    "\n",
    "#Finalmente conocemos cual es la media de la columna duration_time\n",
    "print(df_ride['duration'].mean())\n"
   ]
  },
  {
   "cell_type": "markdown",
   "id": "4278efd6-d2ee-4cd7-8bca-c72cdeb04155",
   "metadata": {},
   "source": [
    "Ahora vamos a trabajar sobre la columna `tire_size` la cual contiene datos sobre el tamaño de los neumáticos de cada bicicleta. el tamaño de los neumáticos de las bicicletas pueden ser 26\" 27\" y 29\" y son almacenados con un valor float.\n",
    "\n",
    "Actualmente se quieren reducir los costos de mantenimiento, por consiguiente el proveedor decidió establecer el tamaño máximo de neumáticos en 27. Respecto a esto vamos a asegurarnos de que la columna `tire_sizes` tenga el rango correcto para esto establecemos el nuevo limite superior 27\" para los tamaños de neumáticos, y despues convirtimos la columna a tipo categoria."
   ]
  },
  {
   "cell_type": "code",
   "execution_count": 18,
   "id": "4d04ef8e-8ad4-49b6-89d5-9193d649120c",
   "metadata": {},
   "outputs": [
    {
     "data": {
      "text/plain": [
       "count     76\n",
       "unique     2\n",
       "top       27\n",
       "freq      73\n",
       "Name: tire_sizes, dtype: int64"
      ]
     },
     "execution_count": 18,
     "metadata": {},
     "output_type": "execute_result"
    }
   ],
   "source": [
    "df_ride = pd.read_csv(\"https://raw.githubusercontent.com/bintutr/Data-Governance-and-Data-Quality-/refs/heads/main/ride_sharing_new.csv\")\n",
    "#usamos loc para seleccionar todo esos registros mayores a 27 establecerle el limite superior que es 27\n",
    "df_ride.loc[df_ride['tire_sizes'] > 27, 'tire_sizes'] = 27\n",
    "df_ride.head(10)\n",
    "\n",
    "#convetirmos a tipo categorico\n",
    "df_ride['tire_sizes'] = df_ride['tire_sizes'].astype('category')\n",
    "\n",
    "df_ride['tire_sizes'].describe()"
   ]
  },
  {
   "cell_type": "markdown",
   "id": "1b4a52a4-351d-421f-a52f-52aeaece672a",
   "metadata": {},
   "source": [
    "📅 Ahora procederemos a encontrar todos los registros de la columna `ride_date` que tengan fechas futura, en caso de que si exista esta inconsistencia, lo que haremos sera establecer el valor maximo de esta columna con la fecha de hoy, pero antes de hacer eso debemos convetir a `ride_data` a tipo datetime."
   ]
  },
  {
   "cell_type": "code",
   "execution_count": 23,
   "id": "efa9b598-81c4-4701-bf4b-4d2fdf496262",
   "metadata": {},
   "outputs": [
    {
     "name": "stdout",
     "output_type": "stream",
     "text": [
      "2022-05-04\n"
     ]
    },
    {
     "name": "stderr",
     "output_type": "stream",
     "text": [
      "C:\\Users\\bintu\\AppData\\Local\\Temp\\ipykernel_9868\\2708044139.py:6: UserWarning: Parsing dates in %d/%m/%Y format when dayfirst=False (the default) was specified. Pass `dayfirst=True` or specify a format to silence this warning.\n",
      "  df_ride['ride_date'] = pd.to_datetime(df_ride['ride_date']).dt.date\n"
     ]
    }
   ],
   "source": [
    "import datetime as dt\n",
    "\n",
    "df_ride = pd.read_csv(\"https://raw.githubusercontent.com/bintutr/Data-Governance-and-Data-Quality-/refs/heads/main/ride_sharing_new.csv\")\n",
    "\n",
    "#convertimos a ride_date en tipo de dato datetime\n",
    "df_ride['ride_date'] = pd.to_datetime(df_ride['ride_date']).dt.date\n",
    "\n",
    "#almacenamos la fecha de hoy\n",
    "today = dt.date.today()\n",
    "\n",
    "# y por ultimo le aplicamos la fecha de hoy almacenada en today a aquellos registros con\n",
    "#fechas futuras, es decir con fechas superiores a hoy\n",
    "df_ride.loc[df_ride['ride_date'] > today, 'ride_date'] = today\n",
    "\n",
    "#mostramos la fecha maxima\n",
    "print(df_ride['ride_date'].max())"
   ]
  },
  {
   "cell_type": "markdown",
   "id": "c25acbe2-d092-490b-a9c0-34f9656c1780",
   "metadata": {},
   "source": [
    "LLego la hora, de encontrar los datos duplicados. Vamos a buscar que registros se encuentran duplicados en nuestro dataset."
   ]
  },
  {
   "cell_type": "code",
   "execution_count": 24,
   "id": "10430c20-8b87-4a8f-a5a1-791a45881aed",
   "metadata": {},
   "outputs": [
    {
     "name": "stdout",
     "output_type": "stream",
     "text": [
      "    ride_id    duration  user_birth_year\n",
      "21       33  11 minutes             1986\n",
      "38       33   6 minutes             1966\n",
      "52       55  13 minutes             1999\n",
      "64       55  10 minutes             1999\n",
      "72       71  11 minutes             1987\n",
      "73       71  11 minutes             1987\n",
      "74       89   9 minutes             1990\n",
      "75       89   9 minutes             1990\n"
     ]
    }
   ],
   "source": [
    "df_ride = pd.read_csv(\"https://raw.githubusercontent.com/bintutr/Data-Governance-and-Data-Quality-/refs/heads/main/ride_sharing_new.csv\")\n",
    "\n",
    "# Aqui buscamos duplicados \n",
    "duplicates = df_ride.duplicated('ride_id', keep = False)\n",
    "\n",
    "# ordenamos por la columna ride_id los registros duplicados obtenidos\n",
    "df_ride = df_ride[duplicates].sort_values( by = 'ride_id')\n",
    "\n",
    "# y por ultimo imprimimos los datos duplicados, mostramos \n",
    "#en cuales columnas estaban estos registros\n",
    "print(df_ride[['ride_id','duration','user_birth_year']])"
   ]
  },
  {
   "cell_type": "markdown",
   "id": "eb798af8-bc48-4505-b6be-199e57017aac",
   "metadata": {},
   "source": [
    "Despues de conocer los duplicados y las columnas que los almacenan hemos podido observar que hay filas duplicadas tanto completas como incompletas para algunos valores de la columna `ride_id`, con valores diferentes para las columnas `user_birth_year` y duration.\n",
    "\n",
    "Entonces, lo que vamos hacer es primero tratar esas filas duplicadas eliminando primero los duplicados completos y luego fusionando las filas duplicadas incompletas en una, manteniendo el promedio de `duration` y el mínimo `user_birth_year` para cada conjunto de filas duplicadas incompletas."
   ]
  },
  {
   "cell_type": "code",
   "execution_count": 27,
   "id": "b4b65467-ca6d-41c9-91d8-8ff5c2e92984",
   "metadata": {},
   "outputs": [],
   "source": [
    "import pandas as pd\n",
    "df_ride = pd.read_csv(\"https://raw.githubusercontent.com/bintutr/Data-Governance-and-Data-Quality-/refs/heads/main/ride_sharing_new.csv\")\n",
    "\n",
    "# Eliminamos los duplicados completos en ride_sharing\n",
    "ride_dup = df_ride.drop_duplicates()\n",
    "ride_dup.loc[:, 'duration'] = ride_dup['duration'].str.replace(' minutes', '').astype(float)\n",
    "\n",
    "# Creamos un diccionario de estadisticas para funciones de agregacion\n",
    "statistics = {'user_birth_year': 'min', 'duration': 'mean'}\n",
    "ride_unique = ride_dup.groupby('ride_id').agg(statistics).reset_index()\n",
    "\n",
    "# nuevamente buscamos valores duplicados\n",
    "duplicates = ride_unique.duplicated(subset='ride_id', keep=False)\n",
    "duplicated_rides = ride_unique[duplicates]\n",
    "\n",
    "# y por ultimo nos aseguramos que se haya aplicado todo correctamente\n",
    "assert duplicated_rides.shape[0] == 0"
   ]
  },
  {
   "cell_type": "markdown",
   "id": "6a48788f-fb8d-4a8d-b9d2-b128179d08a3",
   "metadata": {},
   "source": [
    "❌🔡Problemas de texto y datos categóricos\n",
    "En este espacio, vamos a corregir las incoherencias de hay con espacios en blanco y mayúsculas en las etiquetas de las categorías, tambien, vamos a contraer varias categorías en una sola y cambiar el formato de las cadenas para mantener la coherencia\n",
    "\n",
    "🧾Informacion del Dataset\n",
    "\n",
    "En este espacio trabajaremos con un dataset llamado `df_airlines` que contiene las respuestas de una encuesta que se le realizaron a los clientes de las aerolineas del aeropuerto de San Francisco. Este dataset tiene metadatos de vuelos, destinos, tiempos de espera, y tambien respuestas a preguntas de seguridad y sastifaccion\n",
    "\n",
    "Tambien trabajaremos con un dataset llamado `df_categories`, que contiene todos los valores posibles correctos para las columnas de la encuesta.\n",
    "\n",
    "✔️Utilizaremos ambos dataset para encontrar respuestas de encuestas con valores inconsistentes y eliminarlas, con el fin de poder realizar de manera efectiva una combinación externa e interna en ambos dataset."
   ]
  },
  {
   "cell_type": "code",
   "execution_count": 28,
   "id": "bb2b63a0-b755-4099-a3a4-0f8315410da8",
   "metadata": {},
   "outputs": [
    {
     "name": "stdout",
     "output_type": "stream",
     "text": [
      "      cleanliness           safety          satisfaction\n",
      "0           Clean          Neutral     Very satisfaction\n",
      "1         Average        Very safe               Neutral\n",
      "2  Somewhat clean    Somewhat safe    Somewhat satisfied\n",
      "3  Somewhat dirty      Very unsafe  Somewhat unsatisfied\n",
      "4          Dirty   Somewhat unsafe      Very unsatisfied\n"
     ]
    }
   ],
   "source": [
    "df_categories = pd.read_csv(\"https://raw.githubusercontent.com/bintutr/Data-Governance-and-Data-Quality-/refs/heads/main/categories.csv\")\n",
    "df_airlines = pd.read_csv(\"https://raw.githubusercontent.com/bintutr/Data-Governance-and-Data-Quality-/refs/heads/main/airlines_final.csv\")\n",
    "\n",
    "#conozcamos cada una de las categorias\n",
    "print(df_categories)"
   ]
  },
  {
   "cell_type": "code",
   "execution_count": 29,
   "id": "5616d017-fdb2-4a5f-bb80-2d5c0af59165",
   "metadata": {},
   "outputs": [
    {
     "name": "stdout",
     "output_type": "stream",
     "text": [
      "Cleanliness:  ['Clean' 'Average' 'Unacceptable' 'Somewhat clean' 'Somewhat dirty'\n",
      " 'Dirty'] \n",
      "\n",
      "Safety:  ['Neutral' 'Very safe' 'Somewhat safe' 'Very unsafe' 'Somewhat unsafe'] \n",
      "\n",
      "Satisfaction:  ['Very satisfied' 'Neutral' 'Somewhat satsified' 'Somewhat unsatisfied'\n",
      " 'Very unsatisfied'] \n",
      "\n"
     ]
    }
   ],
   "source": [
    "df_categories = pd.read_csv(\"https://raw.githubusercontent.com/bintutr/Data-Governance-and-Data-Quality-/refs/heads/main/categories.csv\")\n",
    "df_airlines = pd.read_csv(\"https://raw.githubusercontent.com/bintutr/Data-Governance-and-Data-Quality-/refs/heads/main/airlines_final.csv\")\n",
    "\n",
    "#Imprimimos los valores unicos de cada columna de la encuesta airlines\n",
    "#usando el metodo .unique()\n",
    "print('Cleanliness: ', df_airlines['cleanliness'].unique(), \"\\n\")\n",
    "print('Safety: ', df_airlines['safety'].unique(), \"\\n\")\n",
    "print('Satisfaction: ', df_airlines['satisfaction'].unique(), \"\\n\")"
   ]
  },
  {
   "cell_type": "markdown",
   "id": "7ef970e3-15a4-4c87-acf2-b9fd7b277397",
   "metadata": {},
   "source": [
    "👁️‍🗨️ Despues de observar lo que contiene cada una de las categorias, hemos detectado que la columna `Cleanliness` de `df_airlines` tiene una categoria inconsistentes que es *Unacceptable*\n",
    "\n",
    "👷‍♀️ Ahora vamos a crear un conjunto de la columna `cleanliness` en `df_airlines` y encontremos la categoria inconsistente encontrando la **diferencia** en la columna `cleanliness` de `df_categories`."
   ]
  },
  {
   "cell_type": "code",
   "execution_count": 30,
   "id": "6f6fe1d7-4521-4ef2-a967-cbd36350ca27",
   "metadata": {},
   "outputs": [
    {
     "name": "stdout",
     "output_type": "stream",
     "text": [
      "        id        day          airline destination            dest_region  \\\n",
      "4     2992  Wednesday         AMERICAN       MIAMI                East US   \n",
      "586   2920   Thursday            DELTA     SEATTLE                West US   \n",
      "1816  2439  Wednesday  AIR NEW ZEALAND    AUCKLAND  Australia/New Zealand   \n",
      "\n",
      "     dest_size boarding_area   dept_time  wait_min   cleanliness     safety  \\\n",
      "4          Hub   Gates 50-59  2018-12-31     559.0  Unacceptable  Very safe   \n",
      "586        Hub   Gates 40-48  2018-12-31     180.0         Dirty    Neutral   \n",
      "1816    Medium  Gates 91-102  2018-12-31     250.0         Dirty    Neutral   \n",
      "\n",
      "            satisfaction  \n",
      "4     Somewhat satsified  \n",
      "586     Very unsatisfied  \n",
      "1816             Neutral  \n",
      "        id       day        airline        destination    dest_region  \\\n",
      "0     1351   Tuesday    UNITED INTL             KANSAI           Asia   \n",
      "1      373    Friday         ALASKA  SAN JOSE DEL CABO  Canada/Mexico   \n",
      "2     2820  Thursday          DELTA        LOS ANGELES        West US   \n",
      "3     1157   Tuesday      SOUTHWEST        LOS ANGELES        West US   \n",
      "5      634  Thursday         ALASKA             NEWARK        East US   \n",
      "...    ...       ...            ...                ...            ...   \n",
      "2804  1475   Tuesday         ALASKA       NEW YORK-JFK        East US   \n",
      "2805  2222  Thursday      SOUTHWEST            PHOENIX        West US   \n",
      "2806  2684    Friday         UNITED            ORLANDO        East US   \n",
      "2807  2549   Tuesday        JETBLUE         LONG BEACH        West US   \n",
      "2808  2162  Saturday  CHINA EASTERN            QINGDAO           Asia   \n",
      "\n",
      "     dest_size boarding_area   dept_time  wait_min     cleanliness  \\\n",
      "0          Hub  Gates 91-102  2018-12-31     115.0           Clean   \n",
      "1        Small   Gates 50-59  2018-12-31     135.0           Clean   \n",
      "2          Hub   Gates 40-48  2018-12-31      70.0         Average   \n",
      "3          Hub   Gates 20-39  2018-12-31     190.0           Clean   \n",
      "5          Hub   Gates 50-59  2018-12-31     140.0  Somewhat clean   \n",
      "...        ...           ...         ...       ...             ...   \n",
      "2804       Hub   Gates 50-59  2018-12-31     280.0  Somewhat clean   \n",
      "2805       Hub   Gates 20-39  2018-12-31     165.0           Clean   \n",
      "2806       Hub   Gates 70-90  2018-12-31      92.0           Clean   \n",
      "2807     Small    Gates 1-12  2018-12-31      95.0           Clean   \n",
      "2808     Large    Gates 1-12  2018-12-31     220.0           Clean   \n",
      "\n",
      "             safety        satisfaction  \n",
      "0           Neutral      Very satisfied  \n",
      "1         Very safe      Very satisfied  \n",
      "2     Somewhat safe             Neutral  \n",
      "3         Very safe  Somewhat satsified  \n",
      "5         Very safe      Very satisfied  \n",
      "...             ...                 ...  \n",
      "2804        Neutral  Somewhat satsified  \n",
      "2805      Very safe      Very satisfied  \n",
      "2806      Very safe      Very satisfied  \n",
      "2807  Somewhat safe      Very satisfied  \n",
      "2808      Very safe  Somewhat satsified  \n",
      "\n",
      "[2474 rows x 12 columns]\n"
     ]
    }
   ],
   "source": [
    "df_categories = pd.read_csv(\"https://raw.githubusercontent.com/bintutr/Data-Governance-and-Data-Quality-/refs/heads/main/categories.csv\")\n",
    "df_airlines = pd.read_csv(\"https://raw.githubusercontent.com/bintutr/Data-Governance-and-Data-Quality-/refs/heads/main/airlines_final.csv\")\n",
    "\n",
    "# Aplicamos la diferencia\n",
    "cat_clean = set(df_airlines['cleanliness']).difference(df_categories['cleanliness'])\n",
    "\n",
    "#Buscamos filas de df_airlines con un valor en cleanliness\n",
    "#que no este en df_categories\n",
    "cat_clean_rows = df_airlines['cleanliness'].isin(cat_clean)\n",
    "\n",
    "# Imprimimos las filas con categorias inconsistentes\n",
    "print(df_airlines[cat_clean_rows])\n",
    "\n",
    "# Imprimimos las filas solo con categorias consistentes\n",
    "print(df_airlines[~cat_clean_rows])"
   ]
  },
  {
   "cell_type": "markdown",
   "id": "ab4499ca-18bc-41b3-9d22-6b979b076f48",
   "metadata": {},
   "source": [
    "💡 Vamos a examinar las columnas categóricas dest_region y dest_size del dataset df_airlines, y nos aseguraremos de que estén limpias y listas para el análisis."
   ]
  },
  {
   "cell_type": "code",
   "execution_count": 31,
   "id": "c1263b28-dd79-44f2-b1ec-caa19cd5eea6",
   "metadata": {},
   "outputs": [
    {
     "name": "stdout",
     "output_type": "stream",
     "text": [
      "Dest Region:  ['Asia' 'Canada/Mexico' 'West US' 'East US' 'Midwest US' 'EAST US'\n",
      " 'Middle East' 'Europe' 'eur' 'Central/South America'\n",
      " 'Australia/New Zealand' 'middle east'] \n",
      "\n",
      "Dest Size:  ['Hub' 'Small' '    Hub' 'Medium' 'Large' 'Hub     ' '    Small'\n",
      " 'Medium     ' '    Medium' 'Small     ' '    Large' 'Large     '] \n",
      "\n"
     ]
    }
   ],
   "source": [
    "df_categories = pd.read_csv(\"https://raw.githubusercontent.com/bintutr/Data-Governance-and-Data-Quality-/refs/heads/main/categories.csv\")\n",
    "df_airlines = pd.read_csv(\"https://raw.githubusercontent.com/bintutr/Data-Governance-and-Data-Quality-/refs/heads/main/airlines_final.csv\")\n",
    "\n",
    "# Imprimimos los valores unicos de ambas columnas\n",
    "print('Dest Region: ', df_airlines['dest_region'].unique(), \"\\n\")\n",
    "print('Dest Size: ', df_airlines['dest_size'].unique(), \"\\n\")"
   ]
  },
  {
   "cell_type": "markdown",
   "id": "4018dcb0-b124-4db1-ad00-f317b00a34e0",
   "metadata": {},
   "source": [
    "Del resultado anterior podemos concluir los siguientes problemas:\n",
    "\n",
    "⚠️La columna `dest_region` tiene valores inconsistentes debido a las mayúsculas y tiene un valor que debe reasignarse.\n",
    "\n",
    "⚠️La columna `dest_size` solo tiene valores inconsistentes debido a los espacios iniciales y finales.\n",
    "\n",
    "Para resolver los problemas que hemos dectetado procederemos a:\n",
    "⭐Cambiar las mayusculas de todos los valores de `dest_region` a minisculas.\n",
    "⭐Remplazar `'eur'` con `'europe'` en `dest_region` usando el metodo `.replace()`\n",
    "⭐Quitar los espacios en blancos de la columna `dest_size` usando el metodo `.strip()`\n",
    "⭐Verificar que los cambios se hayan realizado con exito imprimiendo los valores unico de las columnas usando el metodo `.unique()`"
   ]
  },
  {
   "cell_type": "code",
   "execution_count": 32,
   "id": "0735ede0-cb8e-461a-8f7a-8b0df4cea3d8",
   "metadata": {},
   "outputs": [
    {
     "name": "stdout",
     "output_type": "stream",
     "text": [
      "Dest Region:  ['asia' 'canada/mexico' 'west us' 'east us' 'midwest us' 'middle east'\n",
      " 'europe' 'central/south america' 'australia/new zealand'] \n",
      "\n",
      "Dest Size:  ['Hub' 'Small' 'Medium' 'Large'] \n",
      "\n"
     ]
    }
   ],
   "source": [
    "df_categories = pd.read_csv(\"https://raw.githubusercontent.com/bintutr/Data-Governance-and-Data-Quality-/refs/heads/main/categories.csv\")\n",
    "df_airlines = pd.read_csv(\"https://raw.githubusercontent.com/bintutr/Data-Governance-and-Data-Quality-/refs/heads/main/airlines_final.csv\")\n",
    "df_airlines['dest_region'] = df_airlines['dest_region'].str.lower()\n",
    "\n",
    "df_airlines['dest_region'] = df_airlines['dest_region'].replace({'eur':'europe'})\n",
    "\n",
    "df_airlines['dest_size'] = df_airlines['dest_size'].str.strip()\n",
    "\n",
    "print('Dest Region: ', df_airlines['dest_region'].unique(), \"\\n\")\n",
    "print('Dest Size: ', df_airlines['dest_size'].unique(), \"\\n\")"
   ]
  },
  {
   "cell_type": "markdown",
   "id": "cd5f6a7c-d0f7-42d1-acec-45f345241353",
   "metadata": {},
   "source": [
    "Para entender mejor a los encuestado, deseamos averiguar si existe una relación entre ciertas respuestas y el día de la semana y el tiempo de espera en la puerta.\n",
    "\n",
    "el dataset `df_airlines` contiene las columnas `day` y `wait_min`, que son categóricas y numéricas respectivamente. La columna `day` contiene el día exacto en que se realizó un vuelo y `wait_min` la cantidad de minutos que los viajeros tardaron en esperar en la puerta de embarque. Para facilitar su análisis, deseamos crear dos nuevas variables categóricas:\n",
    "\n",
    "`wait_type:`\n",
    "\n",
    "`'short'` de 0 a 60 min\n",
    "`'medium'`de 60 a 180 min\n",
    "`'long'` mas de 180 min\n",
    "\n",
    "`day_week:`\n",
    "\n",
    "`'weekday'` si el día está en el día de la semana\n",
    "`'weekend'` si el día es en el fin de semana.\n",
    "Para resolverlo realizaremos los siguientes pasos:\n",
    "\n",
    "👍 Creamos los rangos y etiquetas para la columna `wait_type`\n",
    "👍 Creamos la columna `wait_type` desde wait_min usando el metodo `pd.cut()`\n",
    "👍 Creamos el diccionario `mapping` que ayudara a mapear a los dias de la semana `'weekday'` y a los dias del fin de semana `'weekend'`\n",
    "Creamos la columna `day_week` usando `.replace()`"
   ]
  },
  {
   "cell_type": "code",
   "execution_count": 34,
   "id": "1b8f4a11-16d3-4137-a583-e6303699557d",
   "metadata": {},
   "outputs": [],
   "source": [
    "import numpy as np\n",
    "\n",
    "df_categories = pd.read_csv(\"https://raw.githubusercontent.com/bintutr/Data-Governance-and-Data-Quality-/refs/heads/main/categories.csv\")\n",
    "df_airlines = pd.read_csv(\"https://raw.githubusercontent.com/bintutr/Data-Governance-and-Data-Quality-/refs/heads/main/airlines_final.csv\")\n",
    "\n",
    "# Creamos los rangos para categoria\n",
    "label_ranges = [0, 60, 180, np.inf]\n",
    "label_names = ['short', 'medium', 'long']\n",
    "\n",
    "# Creamos la columna wait_type  \n",
    "df_airlines['wait_type'] = pd.cut(df_airlines['wait_min'], bins =label_ranges, \n",
    "                                  labels = label_names)\n",
    "\n",
    "# Creamos el diccionario\n",
    "mappings = {'Monday':'weekday', 'Tuesday':'weekday', 'Wednesday': 'weekday', \n",
    "            'Thursday': 'weekday', 'Friday': 'weekday', \n",
    "            'Saturday': 'weekend', 'Sunday': 'weekend'}\n",
    "\n",
    "df_airlines['day_week'] = df_airlines['day'].replace(mappings)"
   ]
  },
  {
   "cell_type": "code",
   "execution_count": null,
   "id": "dfb02e09-7a85-402c-8fb3-34f66804d695",
   "metadata": {},
   "outputs": [],
   "source": []
  },
  {
   "cell_type": "code",
   "execution_count": null,
   "id": "a1e172bc-8e35-4d7c-9782-4d512e43e1a1",
   "metadata": {},
   "outputs": [],
   "source": []
  },
  {
   "cell_type": "code",
   "execution_count": null,
   "id": "926c0414-ec44-4850-b2aa-430df862e14e",
   "metadata": {},
   "outputs": [],
   "source": []
  },
  {
   "cell_type": "code",
   "execution_count": null,
   "id": "3a84c8f4-f31a-4458-8e40-cc8e3121e4bf",
   "metadata": {},
   "outputs": [],
   "source": []
  },
  {
   "cell_type": "code",
   "execution_count": 26,
   "id": "cdfc29fc-de1f-4124-8e06-8c081ba09648",
   "metadata": {},
   "outputs": [
    {
     "data": {
      "text/html": [
       "<div>\n",
       "<style scoped>\n",
       "    .dataframe tbody tr th:only-of-type {\n",
       "        vertical-align: middle;\n",
       "    }\n",
       "\n",
       "    .dataframe tbody tr th {\n",
       "        vertical-align: top;\n",
       "    }\n",
       "\n",
       "    .dataframe thead th {\n",
       "        text-align: right;\n",
       "    }\n",
       "</style>\n",
       "<table border=\"1\" class=\"dataframe\">\n",
       "  <thead>\n",
       "    <tr style=\"text-align: right;\">\n",
       "      <th></th>\n",
       "      <th>id</th>\n",
       "      <th>day</th>\n",
       "      <th>airline</th>\n",
       "      <th>destination</th>\n",
       "      <th>dest_region</th>\n",
       "      <th>dest_size</th>\n",
       "      <th>boarding_area</th>\n",
       "      <th>dept_time</th>\n",
       "      <th>wait_min</th>\n",
       "      <th>cleanliness</th>\n",
       "      <th>safety</th>\n",
       "      <th>satisfaction</th>\n",
       "      <th>wait_type</th>\n",
       "      <th>day_week</th>\n",
       "    </tr>\n",
       "  </thead>\n",
       "  <tbody>\n",
       "    <tr>\n",
       "      <th>0</th>\n",
       "      <td>1351</td>\n",
       "      <td>Tuesday</td>\n",
       "      <td>UNITED INTL</td>\n",
       "      <td>KANSAI</td>\n",
       "      <td>Asia</td>\n",
       "      <td>Hub</td>\n",
       "      <td>Gates 91-102</td>\n",
       "      <td>2018-12-31</td>\n",
       "      <td>115.0</td>\n",
       "      <td>Clean</td>\n",
       "      <td>Neutral</td>\n",
       "      <td>Very satisfied</td>\n",
       "      <td>medium</td>\n",
       "      <td>weekday</td>\n",
       "    </tr>\n",
       "    <tr>\n",
       "      <th>1</th>\n",
       "      <td>373</td>\n",
       "      <td>Friday</td>\n",
       "      <td>ALASKA</td>\n",
       "      <td>SAN JOSE DEL CABO</td>\n",
       "      <td>Canada/Mexico</td>\n",
       "      <td>Small</td>\n",
       "      <td>Gates 50-59</td>\n",
       "      <td>2018-12-31</td>\n",
       "      <td>135.0</td>\n",
       "      <td>Clean</td>\n",
       "      <td>Very safe</td>\n",
       "      <td>Very satisfied</td>\n",
       "      <td>medium</td>\n",
       "      <td>weekday</td>\n",
       "    </tr>\n",
       "    <tr>\n",
       "      <th>2</th>\n",
       "      <td>2820</td>\n",
       "      <td>Thursday</td>\n",
       "      <td>DELTA</td>\n",
       "      <td>LOS ANGELES</td>\n",
       "      <td>West US</td>\n",
       "      <td>Hub</td>\n",
       "      <td>Gates 40-48</td>\n",
       "      <td>2018-12-31</td>\n",
       "      <td>70.0</td>\n",
       "      <td>Average</td>\n",
       "      <td>Somewhat safe</td>\n",
       "      <td>Neutral</td>\n",
       "      <td>medium</td>\n",
       "      <td>weekday</td>\n",
       "    </tr>\n",
       "    <tr>\n",
       "      <th>3</th>\n",
       "      <td>1157</td>\n",
       "      <td>Tuesday</td>\n",
       "      <td>SOUTHWEST</td>\n",
       "      <td>LOS ANGELES</td>\n",
       "      <td>West US</td>\n",
       "      <td>Hub</td>\n",
       "      <td>Gates 20-39</td>\n",
       "      <td>2018-12-31</td>\n",
       "      <td>190.0</td>\n",
       "      <td>Clean</td>\n",
       "      <td>Very safe</td>\n",
       "      <td>Somewhat satsified</td>\n",
       "      <td>long</td>\n",
       "      <td>weekday</td>\n",
       "    </tr>\n",
       "    <tr>\n",
       "      <th>4</th>\n",
       "      <td>2992</td>\n",
       "      <td>Wednesday</td>\n",
       "      <td>AMERICAN</td>\n",
       "      <td>MIAMI</td>\n",
       "      <td>East US</td>\n",
       "      <td>Hub</td>\n",
       "      <td>Gates 50-59</td>\n",
       "      <td>2018-12-31</td>\n",
       "      <td>559.0</td>\n",
       "      <td>Unacceptable</td>\n",
       "      <td>Very safe</td>\n",
       "      <td>Somewhat satsified</td>\n",
       "      <td>long</td>\n",
       "      <td>weekday</td>\n",
       "    </tr>\n",
       "  </tbody>\n",
       "</table>\n",
       "</div>"
      ],
      "text/plain": [
       "     id        day      airline        destination    dest_region dest_size  \\\n",
       "0  1351    Tuesday  UNITED INTL             KANSAI           Asia       Hub   \n",
       "1   373     Friday       ALASKA  SAN JOSE DEL CABO  Canada/Mexico     Small   \n",
       "2  2820   Thursday        DELTA        LOS ANGELES        West US       Hub   \n",
       "3  1157    Tuesday    SOUTHWEST        LOS ANGELES        West US       Hub   \n",
       "4  2992  Wednesday     AMERICAN              MIAMI        East US       Hub   \n",
       "\n",
       "  boarding_area   dept_time  wait_min   cleanliness         safety  \\\n",
       "0  Gates 91-102  2018-12-31     115.0         Clean        Neutral   \n",
       "1   Gates 50-59  2018-12-31     135.0         Clean      Very safe   \n",
       "2   Gates 40-48  2018-12-31      70.0       Average  Somewhat safe   \n",
       "3   Gates 20-39  2018-12-31     190.0         Clean      Very safe   \n",
       "4   Gates 50-59  2018-12-31     559.0  Unacceptable      Very safe   \n",
       "\n",
       "         satisfaction wait_type day_week  \n",
       "0      Very satisfied    medium  weekday  \n",
       "1      Very satisfied    medium  weekday  \n",
       "2             Neutral    medium  weekday  \n",
       "3  Somewhat satsified      long  weekday  \n",
       "4  Somewhat satsified      long  weekday  "
      ]
     },
     "execution_count": 26,
     "metadata": {},
     "output_type": "execute_result"
    }
   ],
   "source": [
    "df_airlines.head()"
   ]
  },
  {
   "cell_type": "code",
   "execution_count": null,
   "id": "20275449-f84f-41eb-b03b-c6cc9055d70b",
   "metadata": {},
   "outputs": [],
   "source": []
  }
 ],
 "metadata": {
  "kernelspec": {
   "display_name": "Python 3 (ipykernel)",
   "language": "python",
   "name": "python3"
  },
  "language_info": {
   "codemirror_mode": {
    "name": "ipython",
    "version": 3
   },
   "file_extension": ".py",
   "mimetype": "text/x-python",
   "name": "python",
   "nbconvert_exporter": "python",
   "pygments_lexer": "ipython3",
   "version": "3.13.0"
  }
 },
 "nbformat": 4,
 "nbformat_minor": 5
}
